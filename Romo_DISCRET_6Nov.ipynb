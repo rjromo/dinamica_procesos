{
  "nbformat": 4,
  "nbformat_minor": 0,
  "metadata": {
    "colab": {
      "name": "Romo_DISCRET_6Nov.ipynb",
      "provenance": [],
      "authorship_tag": "ABX9TyMRmd0kHOJBuR4ZfBibhZoN",
      "include_colab_link": true
    },
    "kernelspec": {
      "name": "python3",
      "display_name": "Python 3"
    }
  },
  "cells": [
    {
      "cell_type": "markdown",
      "metadata": {
        "id": "view-in-github",
        "colab_type": "text"
      },
      "source": [
        "<a href=\"https://colab.research.google.com/github/rjromo/dinamica_procesos/blob/main/Romo_DISCRET_6Nov.ipynb\" target=\"_parent\"><img src=\"https://colab.research.google.com/assets/colab-badge.svg\" alt=\"Open In Colab\"/></a>"
      ]
    },
    {
      "cell_type": "markdown",
      "metadata": {
        "id": "ervlf0CN4lLI"
      },
      "source": [
        "#RUBÉN J. ROMO\n",
        "##6 Nov 2020"
      ]
    },
    {
      "cell_type": "code",
      "metadata": {
        "id": "FLYMZB-d4jOr"
      },
      "source": [
        "import numpy as np\n",
        "from scipy.integrate import odeint\n",
        "import matplotlib.pyplot as plt"
      ],
      "execution_count": 170,
      "outputs": []
    },
    {
      "cell_type": "code",
      "metadata": {
        "id": "eTjdrM2o45HE"
      },
      "source": [
        "F0=5\n",
        "A=15\n",
        "beta=2.3\n",
        "\n",
        "def tank(h,t):\n",
        "  dhdt = F0/A - (beta/A)*np.sqrt(h)\n",
        "  return dhdt\n"
      ],
      "execution_count": 171,
      "outputs": []
    },
    {
      "cell_type": "code",
      "metadata": {
        "id": "Bcl3zfG35eyk"
      },
      "source": [
        "h0 = 0.9  #valores iniciales\n",
        "\n",
        "t_0 = 0   #tiempo valor inicial\n",
        "t_f = 1000   #tiempo valor final\n",
        "puntos =  100   #cantidad puntos\n",
        "t= np.linspace(t_0,t_f,puntos)   #vector tiempo\n",
        "\n",
        "#resolviendo ODEs\n",
        "#modelo continuo\n",
        "y= odeint(tank,h0,t)\n",
        "\n",
        "yd = [h0]\n",
        "\n",
        "#modelo discreto\n",
        "for i in range(0, len(t)-1):\n",
        "  if t[i]>150:\n",
        "    F0=6.35\n",
        "  if t[i]>320:\n",
        "    F0=6.35-2.36\n",
        "  if t[i]>450:\n",
        "    F0=2.525 \n",
        "  ts = [t[i], t[i+1]]\n",
        "  yi = odeint(tank,yd[-1],ts)\n",
        "  yd.append(yi[-1])\n",
        "\n"
      ],
      "execution_count": 172,
      "outputs": []
    },
    {
      "cell_type": "code",
      "metadata": {
        "id": "NDs5B-J35pjY",
        "outputId": "4be523b0-6abd-431f-ff59-7836549a40d0",
        "colab": {
          "base_uri": "https://localhost:8080/",
          "height": 279
        }
      },
      "source": [
        "plt.plot(t,y,t,yd)\n",
        "plt.xlabel(\"time, min \")\n",
        "plt.ylabel( \"h(t), m\")\n",
        "plt.legend((\"Modelo continuo\", \"Modelo Discreto\"))\n",
        "plt.grid()\n",
        "plt.show()\n",
        "\n",
        "\n"
      ],
      "execution_count": 173,
      "outputs": [
        {
          "output_type": "display_data",
          "data": {
            "image/png": "[encoded data removed]",
            "text/plain": [
              "<Figure size 432x288 with 1 Axes>"
            ]
          },
          "metadata": {
            "tags": [],
            "needs_background": "light"
          }
        }
      ]
    },
    {
      "cell_type": "code",
      "metadata": {
        "id": "iNOwWFNY5s10"
      },
      "source": [
        ""
      ],
      "execution_count": 173,
      "outputs": []
    },
    {
      "cell_type": "code",
      "metadata": {
        "id": "z6Asw5Mr75rG"
      },
      "source": [
        ""
      ],
      "execution_count": null,
      "outputs": []
    }
  ]
}