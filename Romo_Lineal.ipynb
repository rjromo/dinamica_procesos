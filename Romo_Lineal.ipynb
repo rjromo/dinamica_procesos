{
  "nbformat": 4,
  "nbformat_minor": 0,
  "metadata": {
    "colab": {
      "name": "Romo_Lineal.ipynb",
      "provenance": [],
      "authorship_tag": "ABX9TyP+ZIVeTpK5ML+SL46hTNYC",
      "include_colab_link": true
    },
    "kernelspec": {
      "name": "python3",
      "display_name": "Python 3"
    }
  },
  "cells": [
    {
      "cell_type": "markdown",
      "metadata": {
        "id": "view-in-github",
        "colab_type": "text"
      },
      "source": [
        "<a href=\"https://colab.research.google.com/github/rjromo/dinamica_procesos/blob/main/Romo_Lineal.ipynb\" target=\"_parent\"><img src=\"https://colab.research.google.com/assets/colab-badge.svg\" alt=\"Open In Colab\"/></a>"
      ]
    },
    {
      "cell_type": "markdown",
      "metadata": {
        "id": "Bz8TjEtvGBe7"
      },
      "source": [
        "##RUBÉN ROMO\n",
        "###LINEALIZACIÓN "
      ]
    },
    {
      "cell_type": "code",
      "metadata": {
        "id": "1FmWjbCg6sen"
      },
      "source": [
        "import numpy as np\n",
        "from scipy.integrate import odeint\n",
        "import matplotlib.pyplot as plt"
      ],
      "execution_count": 52,
      "outputs": []
    },
    {
      "cell_type": "code",
      "metadata": {
        "id": "DYTEb4I9MLS-",
        "outputId": "c4bed419-de71-442a-cd0b-166fc739b79c",
        "colab": {
          "base_uri": "https://localhost:8080/",
          "height": 541
        }
      },
      "source": [
        "\n",
        "def mezctank(x,t):\n",
        "    # 1-2 variables de desviacion\n",
        "    h_desv=x[0]\n",
        "    T_desv=x[1]\n",
        "    \n",
        "    \n",
        "    #estado estacionario\n",
        "    h0 = 1\n",
        "    Temp0 = 30\n",
        "    qc0=1.26491\n",
        "    qf0=3.16228\n",
        "    \n",
        "    #constantes \n",
        "    A=1\n",
        "    At=2\n",
        "    g=9.81\n",
        "    Tf=50\n",
        "    Tc=80\n",
        "    qf = 5\n",
        "    qc = 4\n",
        "    \n",
        "    # 3-4 variables de desviacion\n",
        "    qf_desv = qf-qf0\n",
        "    qc_desv = qc-qc0\n",
        "    \n",
        "    #expresiones de k\n",
        "    k11 = (-A*(np.sqrt(2*g)))/float(2*At*np.sqrt(h0))\n",
        "    k12 = 0\n",
        "    k13 = 1/At\n",
        "    k14 = 1/At\n",
        "    \n",
        "    q1 = qc0*(Tc-Temp0)\n",
        "    q2 = qf0*(Tf-Temp0)\n",
        "    k21= ((-1)*(q1+q2))/float(At*(h0^2))\n",
        "    k22= (-qc0-qf0)/float(At*h0)\n",
        "    k23= (Tf-Temp0)/float(At*h0)\n",
        "    k24= (Tc-Temp0)/float(At*h0)\n",
        "    \n",
        "    dh_desvdt= k11*h_desv + k12*T_desv + k13*qf_desv + k14*qc_desv\n",
        "    dT_desvdt= k21*h_desv + k22*T_desv + k23*qf_desv + k24*qc_desv\n",
        "    \n",
        "    return [dh_desvdt,  dT_desvdt]\n",
        "\n",
        "\n",
        "#Graficas \n",
        "t=np.linspace(0,10,11)\n",
        "\n",
        "hi=0\n",
        "Tempi=0\n",
        "xi=[hi, Tempi]\n",
        "h0 = 1\n",
        "Temp0 = 30\n",
        "y= odeint(mezctank, xi, t)\n",
        "\n",
        "\n",
        "plt.plot(t,y[:,0]+h0,\"r--\")\n",
        "plt.xlabel(\"time, min\")\n",
        "plt.ylabel(\"h(t)\")\n",
        "plt.show()\n",
        "\n",
        "plt.plot(t,y[:,1]+Temp0,\"r--\")\n",
        "plt.xlabel(\"time, min\")\n",
        "plt.ylabel(\"Temp(t)\")\n",
        "plt.show()"
      ],
      "execution_count": 67,
      "outputs": [
        {
          "output_type": "display_data",
          "data": {
            "image/png": "[encoded data removed]",
            "text/plain": [
              "<Figure size 432x288 with 1 Axes>"
            ]
          },
          "metadata": {
            "tags": [],
            "needs_background": "light"
          }
        },
        {
          "output_type": "display_data",
          "data": {
            "image/png": "[encoded data removed]",
            "text/plain": [
              "<Figure size 432x288 with 1 Axes>"
            ]
          },
          "metadata": {
            "tags": [],
            "needs_background": "light"
          }
        }
      ]
    },
    {
      "cell_type": "code",
      "metadata": {
        "id": "hpl9LGXGTW2V"
      },
      "source": [
        ""
      ],
      "execution_count": null,
      "outputs": []
    }
  ]
}