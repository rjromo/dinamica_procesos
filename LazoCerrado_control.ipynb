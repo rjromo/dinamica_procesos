{
  "nbformat": 4,
  "nbformat_minor": 0,
  "metadata": {
    "colab": {
      "name": "LazoCerrado_control.ipynb",
      "provenance": [],
      "authorship_tag": "ABX9TyMwUI4QyVeyWUBP3wAgx88B",
      "include_colab_link": true
    },
    "kernelspec": {
      "name": "python3",
      "display_name": "Python 3"
    }
  },
  "cells": [
    {
      "cell_type": "markdown",
      "metadata": {
        "id": "view-in-github",
        "colab_type": "text"
      },
      "source": [
        "<a href=\"https://colab.research.google.com/github/rjromo/dinamica_procesos/blob/main/LazoCerrado_control.ipynb\" target=\"_parent\"><img src=\"https://colab.research.google.com/assets/colab-badge.svg\" alt=\"Open In Colab\"/></a>"
      ]
    },
    {
      "cell_type": "code",
      "metadata": {
        "colab": {
          "base_uri": "https://localhost:8080/"
        },
        "id": "K80NGYQFDoCw",
        "outputId": "26ced91d-af53-4bd2-b6d4-1a2ffb2cdd9b"
      },
      "source": [
        "#pip install slycot"
      ],
      "execution_count": 4,
      "outputs": [
        {
          "output_type": "stream",
          "text": [
            "Collecting slycot\n",
            "\u001b[?25l  Downloading https://files.pythonhosted.org/packages/85/21/4e7110462f3529b2fbcff8a519b61bf64e0604b8fcbe9a07649c9bed9d7a/slycot-0.4.0.0.tar.gz (1.5MB)\n",
            "\r\u001b[K     |▏                               | 10kB 16.3MB/s eta 0:00:01\r\u001b[K     |▍                               | 20kB 22.8MB/s eta 0:00:01\r\u001b[K     |▋                               | 30kB 21.2MB/s eta 0:00:01\r\u001b[K     |▉                               | 40kB 18.1MB/s eta 0:00:01\r\u001b[K     |█                               | 51kB 16.6MB/s eta 0:00:01\r\u001b[K     |█▎                              | 61kB 18.8MB/s eta 0:00:01\r\u001b[K     |█▌                              | 71kB 13.3MB/s eta 0:00:01\r\u001b[K     |█▊                              | 81kB 14.1MB/s eta 0:00:01\r\u001b[K     |██                              | 92kB 12.3MB/s eta 0:00:01\r\u001b[K     |██▏                             | 102kB 12.2MB/s eta 0:00:01\r\u001b[K     |██▎                             | 112kB 12.2MB/s eta 0:00:01\r\u001b[K     |██▌                             | 122kB 12.2MB/s eta 0:00:01\r\u001b[K     |██▊                             | 133kB 12.2MB/s eta 0:00:01\r\u001b[K     |███                             | 143kB 12.2MB/s eta 0:00:01\r\u001b[K     |███▏                            | 153kB 12.2MB/s eta 0:00:01\r\u001b[K     |███▍                            | 163kB 12.2MB/s eta 0:00:01\r\u001b[K     |███▋                            | 174kB 12.2MB/s eta 0:00:01\r\u001b[K     |███▉                            | 184kB 12.2MB/s eta 0:00:01\r\u001b[K     |████                            | 194kB 12.2MB/s eta 0:00:01\r\u001b[K     |████▎                           | 204kB 12.2MB/s eta 0:00:01\r\u001b[K     |████▌                           | 215kB 12.2MB/s eta 0:00:01\r\u001b[K     |████▋                           | 225kB 12.2MB/s eta 0:00:01\r\u001b[K     |████▉                           | 235kB 12.2MB/s eta 0:00:01\r\u001b[K     |█████                           | 245kB 12.2MB/s eta 0:00:01\r\u001b[K     |█████▎                          | 256kB 12.2MB/s eta 0:00:01\r\u001b[K     |█████▌                          | 266kB 12.2MB/s eta 0:00:01\r\u001b[K     |█████▊                          | 276kB 12.2MB/s eta 0:00:01\r\u001b[K     |██████                          | 286kB 12.2MB/s eta 0:00:01\r\u001b[K     |██████▏                         | 296kB 12.2MB/s eta 0:00:01\r\u001b[K     |██████▍                         | 307kB 12.2MB/s eta 0:00:01\r\u001b[K     |██████▋                         | 317kB 12.2MB/s eta 0:00:01\r\u001b[K     |██████▉                         | 327kB 12.2MB/s eta 0:00:01\r\u001b[K     |███████                         | 337kB 12.2MB/s eta 0:00:01\r\u001b[K     |███████▏                        | 348kB 12.2MB/s eta 0:00:01\r\u001b[K     |███████▍                        | 358kB 12.2MB/s eta 0:00:01\r\u001b[K     |███████▋                        | 368kB 12.2MB/s eta 0:00:01\r\u001b[K     |███████▉                        | 378kB 12.2MB/s eta 0:00:01\r\u001b[K     |████████                        | 389kB 12.2MB/s eta 0:00:01\r\u001b[K     |████████▎                       | 399kB 12.2MB/s eta 0:00:01\r\u001b[K     |████████▌                       | 409kB 12.2MB/s eta 0:00:01\r\u001b[K     |████████▊                       | 419kB 12.2MB/s eta 0:00:01\r\u001b[K     |█████████                       | 430kB 12.2MB/s eta 0:00:01\r\u001b[K     |█████████                       | 440kB 12.2MB/s eta 0:00:01\r\u001b[K     |█████████▎                      | 450kB 12.2MB/s eta 0:00:01\r\u001b[K     |█████████▌                      | 460kB 12.2MB/s eta 0:00:01\r\u001b[K     |█████████▊                      | 471kB 12.2MB/s eta 0:00:01\r\u001b[K     |██████████                      | 481kB 12.2MB/s eta 0:00:01\r\u001b[K     |██████████▏                     | 491kB 12.2MB/s eta 0:00:01\r\u001b[K     |██████████▍                     | 501kB 12.2MB/s eta 0:00:01\r\u001b[K     |██████████▋                     | 512kB 12.2MB/s eta 0:00:01\r\u001b[K     |██████████▉                     | 522kB 12.2MB/s eta 0:00:01\r\u001b[K     |███████████                     | 532kB 12.2MB/s eta 0:00:01\r\u001b[K     |███████████▎                    | 542kB 12.2MB/s eta 0:00:01\r\u001b[K     |███████████▍                    | 552kB 12.2MB/s eta 0:00:01\r\u001b[K     |███████████▋                    | 563kB 12.2MB/s eta 0:00:01\r\u001b[K     |███████████▉                    | 573kB 12.2MB/s eta 0:00:01\r\u001b[K     |████████████                    | 583kB 12.2MB/s eta 0:00:01\r\u001b[K     |████████████▎                   | 593kB 12.2MB/s eta 0:00:01\r\u001b[K     |████████████▌                   | 604kB 12.2MB/s eta 0:00:01\r\u001b[K     |████████████▊                   | 614kB 12.2MB/s eta 0:00:01\r\u001b[K     |█████████████                   | 624kB 12.2MB/s eta 0:00:01\r\u001b[K     |█████████████▏                  | 634kB 12.2MB/s eta 0:00:01\r\u001b[K     |█████████████▍                  | 645kB 12.2MB/s eta 0:00:01\r\u001b[K     |█████████████▋                  | 655kB 12.2MB/s eta 0:00:01\r\u001b[K     |█████████████▊                  | 665kB 12.2MB/s eta 0:00:01\r\u001b[K     |██████████████                  | 675kB 12.2MB/s eta 0:00:01\r\u001b[K     |██████████████▏                 | 686kB 12.2MB/s eta 0:00:01\r\u001b[K     |██████████████▍                 | 696kB 12.2MB/s eta 0:00:01\r\u001b[K     |██████████████▋                 | 706kB 12.2MB/s eta 0:00:01\r\u001b[K     |██████████████▉                 | 716kB 12.2MB/s eta 0:00:01\r\u001b[K     |███████████████                 | 727kB 12.2MB/s eta 0:00:01\r\u001b[K     |███████████████▎                | 737kB 12.2MB/s eta 0:00:01\r\u001b[K     |███████████████▌                | 747kB 12.2MB/s eta 0:00:01\r\u001b[K     |███████████████▊                | 757kB 12.2MB/s eta 0:00:01\r\u001b[K     |████████████████                | 768kB 12.2MB/s eta 0:00:01\r\u001b[K     |████████████████                | 778kB 12.2MB/s eta 0:00:01\r\u001b[K     |████████████████▎               | 788kB 12.2MB/s eta 0:00:01\r\u001b[K     |████████████████▌               | 798kB 12.2MB/s eta 0:00:01\r\u001b[K     |████████████████▊               | 808kB 12.2MB/s eta 0:00:01\r\u001b[K     |█████████████████               | 819kB 12.2MB/s eta 0:00:01\r\u001b[K     |█████████████████▏              | 829kB 12.2MB/s eta 0:00:01\r\u001b[K     |█████████████████▍              | 839kB 12.2MB/s eta 0:00:01\r\u001b[K     |█████████████████▋              | 849kB 12.2MB/s eta 0:00:01\r\u001b[K     |█████████████████▉              | 860kB 12.2MB/s eta 0:00:01\r\u001b[K     |██████████████████              | 870kB 12.2MB/s eta 0:00:01\r\u001b[K     |██████████████████▏             | 880kB 12.2MB/s eta 0:00:01\r\u001b[K     |██████████████████▍             | 890kB 12.2MB/s eta 0:00:01\r\u001b[K     |██████████████████▋             | 901kB 12.2MB/s eta 0:00:01\r\u001b[K     |██████████████████▉             | 911kB 12.2MB/s eta 0:00:01\r\u001b[K     |███████████████████             | 921kB 12.2MB/s eta 0:00:01\r\u001b[K     |███████████████████▎            | 931kB 12.2MB/s eta 0:00:01\r\u001b[K     |███████████████████▌            | 942kB 12.2MB/s eta 0:00:01\r\u001b[K     |███████████████████▊            | 952kB 12.2MB/s eta 0:00:01\r\u001b[K     |████████████████████            | 962kB 12.2MB/s eta 0:00:01\r\u001b[K     |████████████████████▏           | 972kB 12.2MB/s eta 0:00:01\r\u001b[K     |████████████████████▍           | 983kB 12.2MB/s eta 0:00:01\r\u001b[K     |████████████████████▌           | 993kB 12.2MB/s eta 0:00:01\r\u001b[K     |████████████████████▊           | 1.0MB 12.2MB/s eta 0:00:01\r\u001b[K     |█████████████████████           | 1.0MB 12.2MB/s eta 0:00:01\r\u001b[K     |█████████████████████▏          | 1.0MB 12.2MB/s eta 0:00:01\r\u001b[K     |█████████████████████▍          | 1.0MB 12.2MB/s eta 0:00:01\r\u001b[K     |█████████████████████▋          | 1.0MB 12.2MB/s eta 0:00:01\r\u001b[K     |█████████████████████▉          | 1.1MB 12.2MB/s eta 0:00:01\r\u001b[K     |██████████████████████          | 1.1MB 12.2MB/s eta 0:00:01\r\u001b[K     |██████████████████████▎         | 1.1MB 12.2MB/s eta 0:00:01\r\u001b[K     |██████████████████████▌         | 1.1MB 12.2MB/s eta 0:00:01\r\u001b[K     |██████████████████████▊         | 1.1MB 12.2MB/s eta 0:00:01\r\u001b[K     |██████████████████████▉         | 1.1MB 12.2MB/s eta 0:00:01\r\u001b[K     |███████████████████████         | 1.1MB 12.2MB/s eta 0:00:01\r\u001b[K     |███████████████████████▎        | 1.1MB 12.2MB/s eta 0:00:01\r\u001b[K     |███████████████████████▌        | 1.1MB 12.2MB/s eta 0:00:01\r\u001b[K     |███████████████████████▊        | 1.1MB 12.2MB/s eta 0:00:01\r\u001b[K     |████████████████████████        | 1.2MB 12.2MB/s eta 0:00:01\r\u001b[K     |████████████████████████▏       | 1.2MB 12.2MB/s eta 0:00:01\r\u001b[K     |████████████████████████▍       | 1.2MB 12.2MB/s eta 0:00:01\r\u001b[K     |████████████████████████▋       | 1.2MB 12.2MB/s eta 0:00:01\r\u001b[K     |████████████████████████▉       | 1.2MB 12.2MB/s eta 0:00:01\r\u001b[K     |█████████████████████████       | 1.2MB 12.2MB/s eta 0:00:01\r\u001b[K     |█████████████████████████▏      | 1.2MB 12.2MB/s eta 0:00:01\r\u001b[K     |█████████████████████████▍      | 1.2MB 12.2MB/s eta 0:00:01\r\u001b[K     |█████████████████████████▋      | 1.2MB 12.2MB/s eta 0:00:01\r\u001b[K     |█████████████████████████▉      | 1.2MB 12.2MB/s eta 0:00:01\r\u001b[K     |██████████████████████████      | 1.3MB 12.2MB/s eta 0:00:01\r\u001b[K     |██████████████████████████▎     | 1.3MB 12.2MB/s eta 0:00:01\r\u001b[K     |██████████████████████████▌     | 1.3MB 12.2MB/s eta 0:00:01\r\u001b[K     |██████████████████████████▊     | 1.3MB 12.2MB/s eta 0:00:01\r\u001b[K     |███████████████████████████     | 1.3MB 12.2MB/s eta 0:00:01\r\u001b[K     |███████████████████████████▏    | 1.3MB 12.2MB/s eta 0:00:01\r\u001b[K     |███████████████████████████▎    | 1.3MB 12.2MB/s eta 0:00:01\r\u001b[K     |███████████████████████████▌    | 1.3MB 12.2MB/s eta 0:00:01\r\u001b[K     |███████████████████████████▊    | 1.3MB 12.2MB/s eta 0:00:01\r\u001b[K     |████████████████████████████    | 1.4MB 12.2MB/s eta 0:00:01\r\u001b[K     |████████████████████████████▏   | 1.4MB 12.2MB/s eta 0:00:01\r\u001b[K     |████████████████████████████▍   | 1.4MB 12.2MB/s eta 0:00:01\r\u001b[K     |████████████████████████████▋   | 1.4MB 12.2MB/s eta 0:00:01\r\u001b[K     |████████████████████████████▉   | 1.4MB 12.2MB/s eta 0:00:01\r\u001b[K     |█████████████████████████████   | 1.4MB 12.2MB/s eta 0:00:01\r\u001b[K     |█████████████████████████████▎  | 1.4MB 12.2MB/s eta 0:00:01\r\u001b[K     |█████████████████████████████▌  | 1.4MB 12.2MB/s eta 0:00:01\r\u001b[K     |█████████████████████████████▋  | 1.4MB 12.2MB/s eta 0:00:01\r\u001b[K     |█████████████████████████████▉  | 1.4MB 12.2MB/s eta 0:00:01\r\u001b[K     |██████████████████████████████  | 1.5MB 12.2MB/s eta 0:00:01\r\u001b[K     |██████████████████████████████▎ | 1.5MB 12.2MB/s eta 0:00:01\r\u001b[K     |██████████████████████████████▌ | 1.5MB 12.2MB/s eta 0:00:01\r\u001b[K     |██████████████████████████████▊ | 1.5MB 12.2MB/s eta 0:00:01\r\u001b[K     |███████████████████████████████ | 1.5MB 12.2MB/s eta 0:00:01\r\u001b[K     |███████████████████████████████▏| 1.5MB 12.2MB/s eta 0:00:01\r\u001b[K     |███████████████████████████████▍| 1.5MB 12.2MB/s eta 0:00:01\r\u001b[K     |███████████████████████████████▋| 1.5MB 12.2MB/s eta 0:00:01\r\u001b[K     |███████████████████████████████▉| 1.5MB 12.2MB/s eta 0:00:01\r\u001b[K     |████████████████████████████████| 1.5MB 12.2MB/s eta 0:00:01\r\u001b[K     |████████████████████████████████| 1.6MB 12.2MB/s \n",
            "\u001b[?25h  Installing build dependencies ... \u001b[?25l\u001b[?25hdone\n",
            "  Getting requirements to build wheel ... \u001b[?25l\u001b[?25hdone\n",
            "    Preparing wheel metadata ... \u001b[?25l\u001b[?25hdone\n",
            "Requirement already satisfied: numpy in /usr/local/lib/python3.6/dist-packages (from slycot) (1.18.5)\n",
            "Building wheels for collected packages: slycot\n",
            "  Building wheel for slycot (PEP 517) ... \u001b[?25l\u001b[?25hdone\n",
            "  Created wheel for slycot: filename=slycot-0.4.0-cp36-cp36m-linux_x86_64.whl size=1413150 sha256=9b303d10e02f8480015f98d6fa2a9ae224e0aa16c367d416b244da6fe140c318\n",
            "  Stored in directory: /root/.cache/pip/wheels/a2/46/56/f82cbb2fd06556f4f3952a2eb2396e8fd29264fffecbaad3cf\n",
            "Successfully built slycot\n",
            "Installing collected packages: slycot\n",
            "Successfully installed slycot-0.4.0\n"
          ],
          "name": "stdout"
        }
      ]
    },
    {
      "cell_type": "code",
      "metadata": {
        "colab": {
          "base_uri": "https://localhost:8080/"
        },
        "id": "iI7LuLMhELUJ",
        "outputId": "3e9308de-9b3e-4dd6-ed6d-22ac12e0a8cc"
      },
      "source": [
        "#pip install control"
      ],
      "execution_count": 5,
      "outputs": [
        {
          "output_type": "stream",
          "text": [
            "Collecting control\n",
            "\u001b[?25l  Downloading https://files.pythonhosted.org/packages/e8/b0/32a903138505dd4ea523f8a3fc156c4272aa58b10100ef24ff74ced2fae8/control-0.8.3.tar.gz (249kB)\n",
            "\r\u001b[K     |█▎                              | 10kB 14.9MB/s eta 0:00:01\r\u001b[K     |██▋                             | 20kB 20.3MB/s eta 0:00:01\r\u001b[K     |████                            | 30kB 25.2MB/s eta 0:00:01\r\u001b[K     |█████▎                          | 40kB 24.9MB/s eta 0:00:01\r\u001b[K     |██████▋                         | 51kB 17.6MB/s eta 0:00:01\r\u001b[K     |███████▉                        | 61kB 14.6MB/s eta 0:00:01\r\u001b[K     |█████████▏                      | 71kB 14.6MB/s eta 0:00:01\r\u001b[K     |██████████▌                     | 81kB 14.4MB/s eta 0:00:01\r\u001b[K     |███████████▉                    | 92kB 12.2MB/s eta 0:00:01\r\u001b[K     |█████████████▏                  | 102kB 12.2MB/s eta 0:00:01\r\u001b[K     |██████████████▍                 | 112kB 12.2MB/s eta 0:00:01\r\u001b[K     |███████████████▊                | 122kB 12.2MB/s eta 0:00:01\r\u001b[K     |█████████████████               | 133kB 12.2MB/s eta 0:00:01\r\u001b[K     |██████████████████▍             | 143kB 12.2MB/s eta 0:00:01\r\u001b[K     |███████████████████▊            | 153kB 12.2MB/s eta 0:00:01\r\u001b[K     |█████████████████████           | 163kB 12.2MB/s eta 0:00:01\r\u001b[K     |██████████████████████▎         | 174kB 12.2MB/s eta 0:00:01\r\u001b[K     |███████████████████████▋        | 184kB 12.2MB/s eta 0:00:01\r\u001b[K     |█████████████████████████       | 194kB 12.2MB/s eta 0:00:01\r\u001b[K     |██████████████████████████▎     | 204kB 12.2MB/s eta 0:00:01\r\u001b[K     |███████████████████████████▋    | 215kB 12.2MB/s eta 0:00:01\r\u001b[K     |████████████████████████████▉   | 225kB 12.2MB/s eta 0:00:01\r\u001b[K     |██████████████████████████████▏ | 235kB 12.2MB/s eta 0:00:01\r\u001b[K     |███████████████████████████████▌| 245kB 12.2MB/s eta 0:00:01\r\u001b[K     |████████████████████████████████| 256kB 12.2MB/s \n",
            "\u001b[?25hRequirement already satisfied: numpy in /usr/local/lib/python3.6/dist-packages (from control) (1.18.5)\n",
            "Requirement already satisfied: scipy in /usr/local/lib/python3.6/dist-packages (from control) (1.4.1)\n",
            "Requirement already satisfied: matplotlib in /usr/local/lib/python3.6/dist-packages (from control) (3.2.2)\n",
            "Requirement already satisfied: pyparsing!=2.0.4,!=2.1.2,!=2.1.6,>=2.0.1 in /usr/local/lib/python3.6/dist-packages (from matplotlib->control) (2.4.7)\n",
            "Requirement already satisfied: cycler>=0.10 in /usr/local/lib/python3.6/dist-packages (from matplotlib->control) (0.10.0)\n",
            "Requirement already satisfied: kiwisolver>=1.0.1 in /usr/local/lib/python3.6/dist-packages (from matplotlib->control) (1.3.1)\n",
            "Requirement already satisfied: python-dateutil>=2.1 in /usr/local/lib/python3.6/dist-packages (from matplotlib->control) (2.8.1)\n",
            "Requirement already satisfied: six in /usr/local/lib/python3.6/dist-packages (from cycler>=0.10->matplotlib->control) (1.15.0)\n",
            "Building wheels for collected packages: control\n",
            "  Building wheel for control (setup.py) ... \u001b[?25l\u001b[?25hdone\n",
            "  Created wheel for control: filename=control-0.8.3-py2.py3-none-any.whl size=260982 sha256=96e63d52551191dd3f2613b3780a096d8e894feef12fb588a5d98e4754aee850\n",
            "  Stored in directory: /root/.cache/pip/wheels/c2/d9/cc/90b28cb139a6320a3af2285428b6da87eee8d8920c78bb0223\n",
            "Successfully built control\n",
            "Installing collected packages: control\n",
            "Successfully installed control-0.8.3\n"
          ],
          "name": "stdout"
        }
      ]
    },
    {
      "cell_type": "code",
      "metadata": {
        "id": "99uTcNJcDU1y"
      },
      "source": [
        "import numpy as np\r\n",
        "import matplotlib.pyplot as plt\r\n",
        "import control as co"
      ],
      "execution_count": 9,
      "outputs": []
    },
    {
      "cell_type": "code",
      "metadata": {
        "colab": {
          "base_uri": "https://localhost:8080/"
        },
        "id": "A8Old6T9DlC4",
        "outputId": "dc405e8a-cd5e-4021-ffe8-f4fa146366f9"
      },
      "source": [
        "km = 2.66\r\n",
        "Gm = km\r\n",
        "\r\n",
        "kc = 1\r\n",
        "taui = 1\r\n",
        "taud = 1\r\n",
        "nGPID = [kc*taud,kc,kc/taui]\r\n",
        "dGPID = [1,0]\r\n",
        "GPID = co.tf(nGPID,dGPID)\r\n",
        "print(GPID)"
      ],
      "execution_count": 12,
      "outputs": [
        {
          "output_type": "stream",
          "text": [
            "\n",
            "s^2 + s + 1\n",
            "-----------\n",
            "     s\n",
            "\n"
          ],
          "name": "stdout"
        }
      ]
    },
    {
      "cell_type": "code",
      "metadata": {
        "colab": {
          "base_uri": "https://localhost:8080/"
        },
        "id": "yuCPl4SvZHit",
        "outputId": "2d6f0acb-ffef-450c-d8ef-4106649a2ef6"
      },
      "source": [
        "GPI = 0.3\r\n",
        "Gv = 1.66\r\n",
        "nGp = [0.08]\r\n",
        "dGp = [15,1]\r\n",
        "Gp = co.tf(nGp,dGp)\r\n",
        "print(Gp)"
      ],
      "execution_count": 26,
      "outputs": [
        {
          "output_type": "stream",
          "text": [
            "\n",
            "  0.08\n",
            "--------\n",
            "15 s + 1\n",
            "\n"
          ],
          "name": "stdout"
        }
      ]
    },
    {
      "cell_type": "code",
      "metadata": {
        "colab": {
          "base_uri": "https://localhost:8080/"
        },
        "id": "sh9ij6qlZpai",
        "outputId": "4838122e-80e5-4b2f-a6b3-0098c33bb5d0"
      },
      "source": [
        "nd = [0.6]\r\n",
        "dd = [15,1]\r\n",
        "Gd = co.tf(nd,dd)\r\n",
        "print(Gd)"
      ],
      "execution_count": 31,
      "outputs": [
        {
          "output_type": "stream",
          "text": [
            "\n",
            "  0.6\n",
            "--------\n",
            "15 s + 1\n",
            "\n"
          ],
          "name": "stdout"
        }
      ]
    },
    {
      "cell_type": "code",
      "metadata": {
        "colab": {
          "base_uri": "https://localhost:8080/"
        },
        "id": "rdL33u62bmp2",
        "outputId": "64a604a7-1649-4683-b073-622a226c2a37"
      },
      "source": [
        "Gforward1 = km*GPID*GPI*(Gv)*Gp\r\n",
        "Gevery1 = GPID*GPI*(Gv)*Gp*Gm\r\n",
        "G1 = Gforward1/(1+Gevery1)\r\n",
        "print(G1)"
      ],
      "execution_count": 28,
      "outputs": [
        {
          "output_type": "stream",
          "text": [
            "\n",
            "1.59 s^4 + 1.696 s^3 + 1.696 s^2 + 0.106 s\n",
            "------------------------------------------\n",
            "226.6 s^4 + 31.7 s^3 + 2.696 s^2 + 0.106 s\n",
            "\n"
          ],
          "name": "stdout"
        }
      ]
    },
    {
      "cell_type": "code",
      "metadata": {
        "colab": {
          "base_uri": "https://localhost:8080/"
        },
        "id": "l1iOP5PNb4Rk",
        "outputId": "e4b7e31d-e3de-4cc5-fff9-404083c88590"
      },
      "source": [
        "Gforward2 = Gd\r\n",
        "Gevery2 = GPID*GPI*(Gv)*Gp*Gm\r\n",
        "G2 = Gforward2/(1+Gevery2)\r\n",
        "print(G2)"
      ],
      "execution_count": 29,
      "outputs": [
        {
          "output_type": "stream",
          "text": [
            "\n",
            "            9 s^2 + 0.6 s\n",
            "--------------------------------------\n",
            "226.6 s^3 + 31.7 s^2 + 2.696 s + 0.106\n",
            "\n"
          ],
          "name": "stdout"
        }
      ]
    },
    {
      "cell_type": "code",
      "metadata": {
        "colab": {
          "base_uri": "https://localhost:8080/",
          "height": 264
        },
        "id": "kH1hSThpcTFL",
        "outputId": "4b058a98-2d8f-4fdf-c96e-36559975aa0c"
      },
      "source": [
        "time = np.linspace(0,150)\r\n",
        "t,y1 = co.step_response(G1,time)\r\n",
        "t,y2 = co.step_response(G2,time)\r\n",
        "plt.plot(t,y2+y1+5, 'g--')\r\n",
        "plt.grid()\r\n",
        "plt.show()"
      ],
      "execution_count": 34,
      "outputs": [
        {
          "output_type": "display_data",
          "data": {
            "image/png": "[encoded data removed]",
            "text/plain": [
              "<Figure size 432x288 with 1 Axes>"
            ]
          },
          "metadata": {
            "tags": [],
            "needs_background": "light"
          }
        }
      ]
    },
    {
      "cell_type": "code",
      "metadata": {
        "id": "2VVSBme3cyl4"
      },
      "source": [
        ""
      ],
      "execution_count": 30,
      "outputs": []
    }
  ]
}